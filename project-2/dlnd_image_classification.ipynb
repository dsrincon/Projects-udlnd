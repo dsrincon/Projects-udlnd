{
 "cells": [
  {
   "cell_type": "markdown",
   "metadata": {
    "collapsed": true
   },
   "source": [
    "# Image Classification\n",
    "In this project, you'll classify images from the [CIFAR-10 dataset](https://www.cs.toronto.edu/~kriz/cifar.html).  The dataset consists of airplanes, dogs, cats, and other objects. You'll preprocess the images, then train a convolutional neural network on all the samples. The images need to be normalized and the labels need to be one-hot encoded.  You'll get to apply what you learned and build a convolutional, max pooling, dropout, and fully connected layers.  At the end, you'll get to see your neural network's predictions on the sample images.\n",
    "## Get the Data\n",
    "Run the following cell to download the [CIFAR-10 dataset for python](https://www.cs.toronto.edu/~kriz/cifar-10-python.tar.gz)."
   ]
  },
  {
   "cell_type": "code",
   "execution_count": 1,
   "metadata": {
    "collapsed": false
   },
   "outputs": [
    {
     "name": "stderr",
     "output_type": "stream",
     "text": [
      "CIFAR-10 Dataset: 171MB [00:07, 22.7MB/s]                           \n"
     ]
    },
    {
     "name": "stdout",
     "output_type": "stream",
     "text": [
      "All files found!\n"
     ]
    }
   ],
   "source": [
    "\"\"\"\n",
    "DON'T MODIFY ANYTHING IN THIS CELL THAT IS BELOW THIS LINE\n",
    "\"\"\"\n",
    "from urllib.request import urlretrieve\n",
    "from os.path import isfile, isdir\n",
    "from tqdm import tqdm\n",
    "import problem_unittests as tests\n",
    "import tarfile\n",
    "\n",
    "cifar10_dataset_folder_path = 'cifar-10-batches-py'\n",
    "\n",
    "class DLProgress(tqdm):\n",
    "    last_block = 0\n",
    "\n",
    "    def hook(self, block_num=1, block_size=1, total_size=None):\n",
    "        self.total = total_size\n",
    "        self.update((block_num - self.last_block) * block_size)\n",
    "        self.last_block = block_num\n",
    "\n",
    "if not isfile('cifar-10-python.tar.gz'):\n",
    "    with DLProgress(unit='B', unit_scale=True, miniters=1, desc='CIFAR-10 Dataset') as pbar:\n",
    "        urlretrieve(\n",
    "            'https://www.cs.toronto.edu/~kriz/cifar-10-python.tar.gz',\n",
    "            'cifar-10-python.tar.gz',\n",
    "            pbar.hook)\n",
    "\n",
    "if not isdir(cifar10_dataset_folder_path):\n",
    "    with tarfile.open('cifar-10-python.tar.gz') as tar:\n",
    "        tar.extractall()\n",
    "        tar.close()\n",
    "\n",
    "\n",
    "tests.test_folder_path(cifar10_dataset_folder_path)"
   ]
  },
  {
   "cell_type": "markdown",
   "metadata": {},
   "source": [
    "## Explore the Data\n",
    "The dataset is broken into batches to prevent your machine from running out of memory.  The CIFAR-10 dataset consists of 5 batches, named `data_batch_1`, `data_batch_2`, etc.. Each batch contains the labels and images that are one of the following:\n",
    "* airplane\n",
    "* automobile\n",
    "* bird\n",
    "* cat\n",
    "* deer\n",
    "* dog\n",
    "* frog\n",
    "* horse\n",
    "* ship\n",
    "* truck\n",
    "\n",
    "Understanding a dataset is part of making predictions on the data.  Play around with the code cell below by changing the `batch_id` and `sample_id`. The `batch_id` is the id for a batch (1-5). The `sample_id` is the id for a image and label pair in the batch.\n",
    "\n",
    "Ask yourself \"What are all possible labels?\", \"What is the range of values for the image data?\", \"Are the labels in order or random?\".  Answers to questions like these will help you preprocess the data and end up with better predictions."
   ]
  },
  {
   "cell_type": "code",
   "execution_count": 2,
   "metadata": {
    "collapsed": false
   },
   "outputs": [
    {
     "name": "stdout",
     "output_type": "stream",
     "text": [
      "\n",
      "Stats of batch 4:\n",
      "Samples: 10000\n",
      "Label Counts: {0: 1003, 1: 963, 2: 1041, 3: 976, 4: 1004, 5: 1021, 6: 1004, 7: 981, 8: 1024, 9: 983}\n",
      "First 20 Labels: [0, 6, 0, 2, 7, 2, 1, 2, 4, 1, 5, 6, 6, 3, 1, 3, 5, 5, 8, 1]\n",
      "\n",
      "Example of Image 15:\n",
      "Image - Min Value: 0 Max Value: 255\n",
      "Image - Shape: (32, 32, 3)\n",
      "Label - Label Id: 3 Name: cat\n"
     ]
    },
    {
     "data": {
      "image/png": "[encoded data removed]",
      "text/plain": [
       "<matplotlib.figure.Figure at 0x7f9e68a88400>"
      ]
     },
     "metadata": {
      "image/png": {
       "height": 351,
       "width": 353
      }
     },
     "output_type": "display_data"
    }
   ],
   "source": [
    "%matplotlib inline\n",
    "%config InlineBackend.figure_format = 'retina'\n",
    "\n",
    "import helper\n",
    "import numpy as np\n",
    "\n",
    "# Explore the dataset\n",
    "batch_id = 4\n",
    "sample_id = 15\n",
    "helper.display_stats(cifar10_dataset_folder_path, batch_id, sample_id)"
   ]
  },
  {
   "cell_type": "markdown",
   "metadata": {},
   "source": [
    "## Implement Preprocess Functions\n",
    "### Normalize\n",
    "In the cell below, implement the `normalize` function to take in image data, `x`, and return it as a normalized Numpy array. The values should be in the range of 0 to 1, inclusive.  The return object should be the same shape as `x`."
   ]
  },
  {
   "cell_type": "code",
   "execution_count": 3,
   "metadata": {
    "collapsed": false
   },
   "outputs": [
    {
     "name": "stdout",
     "output_type": "stream",
     "text": [
      "Tests Passed\n"
     ]
    }
   ],
   "source": [
    "def normalize(x):\n",
    "    \"\"\"\n",
    "    Normalize a list of sample image data in the range of 0 to 1\n",
    "    : x: List of image data.  The image shape is (32, 32, 3)\n",
    "    : return: Numpy array of normalize data\n",
    "    \"\"\"\n",
    "    # DONE: Implement Function\n",
    "    x_np=np.asarray(x)\n",
    "    x_norm=x_np/255\n",
    "    return x_norm\n",
    "\n",
    "\n",
    "\"\"\"\n",
    "DON'T MODIFY ANYTHING IN THIS CELL THAT IS BELOW THIS LINE\n",
    "\"\"\"\n",
    "tests.test_normalize(normalize)"
   ]
  },
  {
   "cell_type": "markdown",
   "metadata": {},
   "source": [
    "### One-hot encode\n",
    "Just like the previous code cell, you'll be implementing a function for preprocessing.  This time, you'll implement the `one_hot_encode` function. The input, `x`, are a list of labels.  Implement the function to return the list of labels as One-Hot encoded Numpy array.  The possible values for labels are 0 to 9. The one-hot encoding function should return the same encoding for each value between each call to `one_hot_encode`.  Make sure to save the map of encodings outside the function.\n",
    "\n",
    "Hint: Don't reinvent the wheel."
   ]
  },
  {
   "cell_type": "code",
   "execution_count": 4,
   "metadata": {
    "collapsed": false
   },
   "outputs": [
    {
     "name": "stdout",
     "output_type": "stream",
     "text": [
      "Tests Passed\n"
     ]
    }
   ],
   "source": [
    "from sklearn import preprocessing\n",
    "labels = np.array([0,1,2,3,4,5,6,7,8,9])\n",
    "lb=preprocessing.LabelBinarizer()\n",
    "lb.fit(labels)\n",
    "def one_hot_encode(x):\n",
    "    \"\"\"\n",
    "    One hot encode a list of sample labels. Return a one-hot encoded vector for each label.\n",
    "    : x: List of sample Labels\n",
    "    : return: Numpy array of one-hot encoded labels\n",
    "    \"\"\"\n",
    "    # DONE: Implement Function\n",
    "    x_np=np.asarray(x)\n",
    "    x_oh=lb.transform(x_np)\n",
    "    return x_oh\n",
    "\n",
    "\n",
    "\"\"\"\n",
    "DON'T MODIFY ANYTHING IN THIS CELL THAT IS BELOW THIS LINE\n",
    "\"\"\"\n",
    "tests.test_one_hot_encode(one_hot_encode)"
   ]
  },
  {
   "cell_type": "markdown",
   "metadata": {},
   "source": [
    "### Randomize Data\n",
    "As you saw from exploring the data above, the order of the samples are randomized.  It doesn't hurt to randomize it again, but you don't need to for this dataset."
   ]
  },
  {
   "cell_type": "markdown",
   "metadata": {},
   "source": [
    "## Preprocess all the data and save it\n",
    "Running the code cell below will preprocess all the CIFAR-10 data and save it to file. The code below also uses 10% of the training data for validation."
   ]
  },
  {
   "cell_type": "code",
   "execution_count": 5,
   "metadata": {
    "collapsed": false
   },
   "outputs": [],
   "source": [
    "\"\"\"\n",
    "DON'T MODIFY ANYTHING IN THIS CELL\n",
    "\"\"\"\n",
    "# Preprocess Training, Validation, and Testing Data\n",
    "helper.preprocess_and_save_data(cifar10_dataset_folder_path, normalize, one_hot_encode)"
   ]
  },
  {
   "cell_type": "markdown",
   "metadata": {},
   "source": [
    "# Check Point\n",
    "This is your first checkpoint.  If you ever decide to come back to this notebook or have to restart the notebook, you can start from here.  The preprocessed data has been saved to disk."
   ]
  },
  {
   "cell_type": "code",
   "execution_count": 1,
   "metadata": {
    "collapsed": false
   },
   "outputs": [],
   "source": [
    "\"\"\"\n",
    "DON'T MODIFY ANYTHING IN THIS CELL\n",
    "\"\"\"\n",
    "import pickle\n",
    "import problem_unittests as tests\n",
    "import helper\n",
    "\n",
    "# Load the Preprocessed Validation data\n",
    "valid_features, valid_labels = pickle.load(open('preprocess_validation.p', mode='rb'))"
   ]
  },
  {
   "cell_type": "markdown",
   "metadata": {},
   "source": [
    "## Build the network\n",
    "For the neural network, you'll build each layer into a function.  Most of the code you've seen has been outside of functions. To test your code more thoroughly, we require that you put each layer in a function.  This allows us to give you better feedback and test for simple mistakes using our unittests before you submit your project.\n",
    "\n",
    ">**Note:** If you're finding it hard to dedicate enough time for this course each week, we've provided a small shortcut to this part of the project. In the next couple of problems, you'll have the option to use classes from the [TensorFlow Layers](https://www.tensorflow.org/api_docs/python/tf/layers) or [TensorFlow Layers (contrib)](https://www.tensorflow.org/api_guides/python/contrib.layers) packages to build each layer, except the layers you build in the \"Convolutional and Max Pooling Layer\" section.  TF Layers is similar to Keras's and TFLearn's abstraction to layers, so it's easy to pickup.\n",
    "\n",
    ">However, if you would like to get the most out of this course, try to solve all the problems _without_ using anything from the TF Layers packages. You **can** still use classes from other packages that happen to have the same name as ones you find in TF Layers! For example, instead of using the TF Layers version of the `conv2d` class, [tf.layers.conv2d](https://www.tensorflow.org/api_docs/python/tf/layers/conv2d), you would want to use the TF Neural Network version of `conv2d`, [tf.nn.conv2d](https://www.tensorflow.org/api_docs/python/tf/nn/conv2d). \n",
    "\n",
    "Let's begin!\n",
    "\n",
    "### Input\n",
    "The neural network needs to read the image data, one-hot encoded labels, and dropout keep probability. Implement the following functions\n",
    "* Implement `neural_net_image_input`\n",
    " * Return a [TF Placeholder](https://www.tensorflow.org/api_docs/python/tf/placeholder)\n",
    " * Set the shape using `image_shape` with batch size set to `None`.\n",
    " * Name the TensorFlow placeholder \"x\" using the TensorFlow `name` parameter in the [TF Placeholder](https://www.tensorflow.org/api_docs/python/tf/placeholder).\n",
    "* Implement `neural_net_label_input`\n",
    " * Return a [TF Placeholder](https://www.tensorflow.org/api_docs/python/tf/placeholder)\n",
    " * Set the shape using `n_classes` with batch size set to `None`.\n",
    " * Name the TensorFlow placeholder \"y\" using the TensorFlow `name` parameter in the [TF Placeholder](https://www.tensorflow.org/api_docs/python/tf/placeholder).\n",
    "* Implement `neural_net_keep_prob_input`\n",
    " * Return a [TF Placeholder](https://www.tensorflow.org/api_docs/python/tf/placeholder) for dropout keep probability.\n",
    " * Name the TensorFlow placeholder \"keep_prob\" using the TensorFlow `name` parameter in the [TF Placeholder](https://www.tensorflow.org/api_docs/python/tf/placeholder).\n",
    "\n",
    "These names will be used at the end of the project to load your saved model.\n",
    "\n",
    "Note: `None` for shapes in TensorFlow allow for a dynamic size."
   ]
  },
  {
   "cell_type": "code",
   "execution_count": 2,
   "metadata": {
    "collapsed": false
   },
   "outputs": [
    {
     "name": "stdout",
     "output_type": "stream",
     "text": [
      "Image Input Tests Passed.\n",
      "Label Input Tests Passed.\n",
      "Keep Prob Tests Passed.\n"
     ]
    }
   ],
   "source": [
    "import tensorflow as tf\n",
    "\n",
    "def neural_net_image_input(image_shape):\n",
    "    \"\"\"\n",
    "    Return a Tensor for a batch of image input\n",
    "    : image_shape: Shape of the images\n",
    "    : return: Tensor for image input.\n",
    "    \"\"\"\n",
    "    # DONE: Implement Function\n",
    "    x=tf.placeholder(tf.float32, [None, image_shape[0],image_shape[1],image_shape[2]], name='x')\n",
    "    return x\n",
    "\n",
    "\n",
    "def neural_net_label_input(n_classes):\n",
    "    \"\"\"\n",
    "    Return a Tensor for a batch of label input\n",
    "    : n_classes: Number of classes\n",
    "    : return: Tensor for label input.\n",
    "    \"\"\"\n",
    "    # DONE: Implement Function\n",
    "    y=tf.placeholder(tf.float32,[None,n_classes],name='y')\n",
    "    return y\n",
    "\n",
    "\n",
    "def neural_net_keep_prob_input():\n",
    "    \"\"\"\n",
    "    Return a Tensor for keep probability\n",
    "    : return: Tensor for keep probability.\n",
    "    \"\"\"\n",
    "    # DONE: Implement Function\n",
    "    keep_prob=tf.placeholder(tf.float32,name='keep_prob')\n",
    "    return keep_prob\n",
    "\n",
    "\n",
    "\"\"\"\n",
    "DON'T MODIFY ANYTHING IN THIS CELL THAT IS BELOW THIS LINE\n",
    "\"\"\"\n",
    "tf.reset_default_graph()\n",
    "tests.test_nn_image_inputs(neural_net_image_input)\n",
    "tests.test_nn_label_inputs(neural_net_label_input)\n",
    "tests.test_nn_keep_prob_inputs(neural_net_keep_prob_input)"
   ]
  },
  {
   "cell_type": "markdown",
   "metadata": {},
   "source": [
    "### Convolution and Max Pooling Layer\n",
    "Convolution layers have a lot of success with images. For this code cell, you should implement the function `conv2d_maxpool` to apply convolution then max pooling:\n",
    "* Create the weight and bias using `conv_ksize`, `conv_num_outputs` and the shape of `x_tensor`.\n",
    "* Apply a convolution to `x_tensor` using weight and `conv_strides`.\n",
    " * We recommend you use same padding, but you're welcome to use any padding.\n",
    "* Add bias\n",
    "* Add a nonlinear activation to the convolution.\n",
    "* Apply Max Pooling using `pool_ksize` and `pool_strides`.\n",
    " * We recommend you use same padding, but you're welcome to use any padding.\n",
    "\n",
    "**Note:** You **can't** use [TensorFlow Layers](https://www.tensorflow.org/api_docs/python/tf/layers) or [TensorFlow Layers (contrib)](https://www.tensorflow.org/api_guides/python/contrib.layers) for **this** layer, but you can still use TensorFlow's [Neural Network](https://www.tensorflow.org/api_docs/python/tf/nn) package. You may still use the shortcut option for all the **other** layers."
   ]
  },
  {
   "cell_type": "code",
   "execution_count": 29,
   "metadata": {
    "collapsed": false
   },
   "outputs": [
    {
     "name": "stdout",
     "output_type": "stream",
     "text": [
      "Tests Passed\n"
     ]
    }
   ],
   "source": [
    "def conv2d_maxpool(x_tensor, conv_num_outputs, conv_ksize, conv_strides, pool_ksize, pool_strides):\n",
    "    \"\"\"\n",
    "    Apply convolution then max pooling to x_tensor\n",
    "    :param x_tensor: TensorFlow Tensor\n",
    "    :param conv_num_outputs: Number of outputs for the convolutional layer\n",
    "    :param conv_ksize: kernal size 2-D Tuple for the convolutional layer\n",
    "    :param conv_strides: Stride 2-D Tuple for convolution\n",
    "    :param pool_ksize: kernal size 2-D Tuple for pool\n",
    "    :param pool_strides: Stride 2-D Tuple for pool\n",
    "    : return: A tensor that represents convolution and max pooling of x_tensor\n",
    "    \"\"\"\n",
    "    # DONE: Implement Function\n",
    "  \n",
    "    weights=tf.Variable(tf.truncated_normal([conv_ksize[0],conv_ksize[1],x_tensor.get_shape().as_list()[3],conv_num_outputs]))\n",
    "    bias=tf.Variable(tf.random_normal([conv_num_outputs]))\n",
    "    strides_conv=[1,conv_strides[0],conv_strides[1],1]\n",
    "    conv=tf.nn.conv2d(x_tensor,weights,strides_conv,padding='SAME')\n",
    "    conv_bias=tf.nn.bias_add(conv,bias)\n",
    "    conv_relu=tf.nn.relu(conv_bias)\n",
    "    strides_pool=[1,pool_strides[0],pool_strides[1],1]\n",
    "    ksize_pool=[1,pool_ksize[0],pool_ksize[1],1]\n",
    "    conv_pool=tf.nn.max_pool(conv_relu,ksize_pool,strides_pool,padding='SAME')\n",
    "    \n",
    "    \n",
    "    return conv_pool \n",
    "\n",
    "\n",
    "\"\"\"\n",
    "DON'T MODIFY ANYTHING IN THIS CELL THAT IS BELOW THIS LINE\n",
    "\"\"\"\n",
    "tests.test_con_pool(conv2d_maxpool)"
   ]
  },
  {
   "cell_type": "markdown",
   "metadata": {},
   "source": [
    "### Flatten Layer\n",
    "Implement the `flatten` function to change the dimension of `x_tensor` from a 4-D tensor to a 2-D tensor.  The output should be the shape (*Batch Size*, *Flattened Image Size*). Shortcut option: you can use classes from the [TensorFlow Layers](https://www.tensorflow.org/api_docs/python/tf/layers) or [TensorFlow Layers (contrib)](https://www.tensorflow.org/api_guides/python/contrib.layers) packages for this layer. For more of a challenge, only use other TensorFlow packages."
   ]
  },
  {
   "cell_type": "code",
   "execution_count": 4,
   "metadata": {
    "collapsed": false
   },
   "outputs": [
    {
     "name": "stdout",
     "output_type": "stream",
     "text": [
      "Tests Passed\n"
     ]
    }
   ],
   "source": [
    "def flatten(x_tensor):\n",
    "    \"\"\"\n",
    "    Flatten x_tensor to (Batch Size, Flattened Image Size)\n",
    "    : x_tensor: A tensor of size (Batch Size, ...), where ... are the image dimensions.\n",
    "    : return: A tensor of size (Batch Size, Flattened Image Size).\n",
    "    \"\"\"\n",
    "    # DONE*: Implement Function\n",
    "    flatten_x=tf.contrib.layers.flatten(x_tensor)\n",
    "    return flatten_x\n",
    "\n",
    "\n",
    "\"\"\"\n",
    "DON'T MODIFY ANYTHING IN THIS CELL THAT IS BELOW THIS LINE\n",
    "\"\"\"\n",
    "tests.test_flatten(flatten)"
   ]
  },
  {
   "cell_type": "markdown",
   "metadata": {},
   "source": [
    "### Fully-Connected Layer\n",
    "Implement the `fully_conn` function to apply a fully connected layer to `x_tensor` with the shape (*Batch Size*, *num_outputs*). Shortcut option: you can use classes from the [TensorFlow Layers](https://www.tensorflow.org/api_docs/python/tf/layers) or [TensorFlow Layers (contrib)](https://www.tensorflow.org/api_guides/python/contrib.layers) packages for this layer. For more of a challenge, only use other TensorFlow packages."
   ]
  },
  {
   "cell_type": "code",
   "execution_count": 5,
   "metadata": {
    "collapsed": false
   },
   "outputs": [
    {
     "name": "stdout",
     "output_type": "stream",
     "text": [
      "Tests Passed\n"
     ]
    }
   ],
   "source": [
    "def fully_conn(x_tensor, num_outputs):\n",
    "    \"\"\"\n",
    "    Apply a fully connected layer to x_tensor using weight and bias\n",
    "    : x_tensor: A 2-D tensor where the first dimension is batch size.\n",
    "    : num_outputs: The number of output that the new tensor should be.\n",
    "    : return: A 2-D tensor where the second dimension is num_outputs.\n",
    "    \"\"\"\n",
    "   \n",
    "    # DONE*: Implement Function\n",
    "    \n",
    "    full_con=tf.contrib.layers.fully_connected(x_tensor,num_outputs,activation_fn=tf.nn.relu)\n",
    "    return full_con\n",
    "\n",
    "\n",
    "\"\"\"\n",
    "DON'T MODIFY ANYTHING IN THIS CELL THAT IS BELOW THIS LINE\n",
    "\"\"\"\n",
    "tests.test_fully_conn(fully_conn)"
   ]
  },
  {
   "cell_type": "markdown",
   "metadata": {},
   "source": [
    "### Output Layer\n",
    "Implement the `output` function to apply a fully connected layer to `x_tensor` with the shape (*Batch Size*, *num_outputs*). Shortcut option: you can use classes from the [TensorFlow Layers](https://www.tensorflow.org/api_docs/python/tf/layers) or [TensorFlow Layers (contrib)](https://www.tensorflow.org/api_guides/python/contrib.layers) packages for this layer. For more of a challenge, only use other TensorFlow packages.\n",
    "\n",
    "**Note:** Activation, softmax, or cross entropy should **not** be applied to this."
   ]
  },
  {
   "cell_type": "code",
   "execution_count": 6,
   "metadata": {
    "collapsed": false
   },
   "outputs": [
    {
     "name": "stdout",
     "output_type": "stream",
     "text": [
      "Tests Passed\n"
     ]
    }
   ],
   "source": [
    "def output(x_tensor, num_outputs):\n",
    "    \"\"\"\n",
    "    Apply a output layer to x_tensor using weight and bias\n",
    "    : x_tensor: A 2-D tensor where the first dimension is batch size.\n",
    "    : num_outputs: The number of output that the new tensor should be.\n",
    "    : return: A 2-D tensor where the second dimension is num_outputs.\n",
    "    \"\"\"\n",
    "    # DONE: Implement Function\n",
    "       \n",
    "    weights_out=tf.Variable(tf.random_normal([x_tensor.get_shape().as_list()[1], num_outputs]))\n",
    "    bias_out=tf.Variable(tf.random_normal([num_outputs]))\n",
    "    output_ret=tf.add(tf.matmul(x_tensor,weights_out),bias_out)\n",
    "    return output_ret\n",
    "\n",
    "\n",
    "\"\"\"\n",
    "DON'T MODIFY ANYTHING IN THIS CELL THAT IS BELOW THIS LINE\n",
    "\"\"\"\n",
    "tests.test_output(output)"
   ]
  },
  {
   "cell_type": "markdown",
   "metadata": {},
   "source": [
    "### Create Convolutional Model\n",
    "Implement the function `conv_net` to create a convolutional neural network model. The function takes in a batch of images, `x`, and outputs logits.  Use the layers you created above to create this model:\n",
    "\n",
    "* Apply 1, 2, or 3 Convolution and Max Pool layers\n",
    "* Apply a Flatten Layer\n",
    "* Apply 1, 2, or 3 Fully Connected Layers\n",
    "* Apply an Output Layer\n",
    "* Return the output\n",
    "* Apply [TensorFlow's Dropout](https://www.tensorflow.org/api_docs/python/tf/nn/dropout) to one or more layers in the model using `keep_prob`. "
   ]
  },
  {
   "cell_type": "code",
   "execution_count": 111,
   "metadata": {
    "collapsed": false
   },
   "outputs": [
    {
     "name": "stdout",
     "output_type": "stream",
     "text": [
      "Neural Network Built!\n"
     ]
    }
   ],
   "source": [
    "def conv_net(x, keep_prob):\n",
    "    \"\"\"\n",
    "    Create a convolutional neural network model\n",
    "    : x: Placeholder tensor that holds image data.\n",
    "    : keep_prob: Placeholder tensor that hold dropout keep probability.\n",
    "    : return: Tensor that represents logits\n",
    "    \"\"\"\n",
    "    # DONE: Apply 1, 2, or 3 Convolution and Max Pool layers\n",
    "    #    Play around with different number of outputs, kernel size and stride\n",
    "    # Function Definition from Above:\n",
    "    #Layer1 \n",
    "    conv_num_outputs_1=20\n",
    "    conv_ksize_1=(2,2)\n",
    "    conv_strides_1=(2,2)\n",
    "    pool_ksize_1=(2,2)\n",
    "    pool_strides_1=(2,2)\n",
    "    layer_1=conv2d_maxpool(x, conv_num_outputs_1, conv_ksize_1, conv_strides_1, pool_ksize_1, pool_strides_1)\n",
    "    \"\"\"\n",
    "    #Layer2 \n",
    "    conv_num_outputs_2=64\n",
    "    conv_ksize_2=(2,2)\n",
    "    conv_strides_2=(1,1)\n",
    "    pool_ksize_2=(2,2)\n",
    "    pool_strides_2=(2,2)\n",
    "    layer_2=conv2d_maxpool(layer_1, conv_num_outputs_2, conv_ksize_2, conv_strides_2, pool_ksize_2, pool_strides_2)\n",
    "    \n",
    "    #Layer3 \n",
    "    conv_num_outputs_3=64\n",
    "    conv_ksize_3=(5,5)\n",
    "    conv_strides_3=(1,1)\n",
    "    pool_ksize_3=(2,2)\n",
    "    pool_strides_3=(2,2)\n",
    "    layer_3=conv2d_maxpool(layer_2, conv_num_outputs_3, conv_ksize_3, conv_strides_3, pool_ksize_3, pool_strides_3)\n",
    "    \"\"\"\n",
    "    # DONE: Apply a Flatten Layer\n",
    "    # Function Definition from Above:\n",
    "    layer_flat=flatten(layer_1)\n",
    "    \n",
    "\n",
    "    # DONE: Apply 1, 2, or 3 Fully Connected Layers\n",
    "    #    Play around with different number of outputs\n",
    "    # Function Definition from Above:\n",
    "    fcl_1_outputs=800\n",
    "    layer_fcl_1=fully_conn(layer_flat, fcl_1_outputs)\n",
    "    layer_fcl_1=tf.nn.dropout(layer_fcl_1,keep_prob)\n",
    "    \"\"\"\n",
    "    fcl_2_outputs=600\n",
    "    \n",
    "    layer_fcl_2=fully_conn(layer_fcl_1, fcl_2_outputs)\n",
    "    layer_fcl_2=tf.nn.dropout(layer_fcl_2,keep_prob)\n",
    "    \n",
    "    fcl_3_outputs=40\n",
    "    \n",
    "    layer_fcl_3=fully_conn(layer_fcl_2, fcl_3_outputs)\n",
    "    layer_fcl_3=tf.nn.dropout(layer_fcl_3,keep_prob)\n",
    "    # DONE: Apply an Output Layer\n",
    "    #    Set this to the number of classes=10\n",
    "    # Function Definition from Above:\n",
    "   \"\"\"\n",
    "    layer_out=output(layer_fcl_1, 10)\n",
    "    \n",
    "    \n",
    "    # DONE: return output\n",
    "    return layer_out\n",
    "\n",
    "\n",
    "\"\"\"\n",
    "DON'T MODIFY ANYTHING IN THIS CELL THAT IS BELOW THIS LINE\n",
    "\"\"\"\n",
    "\n",
    "##############################\n",
    "## Build the Neural Network ##\n",
    "##############################\n",
    "\n",
    "# Remove previous weights, bias, inputs, etc..\n",
    "tf.reset_default_graph()\n",
    "\n",
    "# Inputs\n",
    "x = neural_net_image_input((32, 32, 3))\n",
    "y = neural_net_label_input(10)\n",
    "keep_prob = neural_net_keep_prob_input()\n",
    "\n",
    "# Model\n",
    "logits = conv_net(x, keep_prob)\n",
    "\n",
    "# Name logits Tensor, so that is can be loaded from disk after training\n",
    "logits = tf.identity(logits, name='logits')\n",
    "\n",
    "# Loss and Optimizer\n",
    "cost = tf.reduce_mean(tf.nn.softmax_cross_entropy_with_logits(logits=logits, labels=y))\n",
    "optimizer = tf.train.AdamOptimizer().minimize(cost)\n",
    "\n",
    "# Accuracy\n",
    "correct_pred = tf.equal(tf.argmax(logits, 1), tf.argmax(y, 1))\n",
    "accuracy = tf.reduce_mean(tf.cast(correct_pred, tf.float32), name='accuracy')\n",
    "\n",
    "tests.test_conv_net(conv_net)"
   ]
  },
  {
   "cell_type": "markdown",
   "metadata": {},
   "source": [
    "## Train the Neural Network\n",
    "### Single Optimization\n",
    "Implement the function `train_neural_network` to do a single optimization.  The optimization should use `optimizer` to optimize in `session` with a `feed_dict` of the following:\n",
    "* `x` for image input\n",
    "* `y` for labels\n",
    "* `keep_prob` for keep probability for dropout\n",
    "\n",
    "This function will be called for each batch, so `tf.global_variables_initializer()` has already been called.\n",
    "\n",
    "Note: Nothing needs to be returned. This function is only optimizing the neural network."
   ]
  },
  {
   "cell_type": "code",
   "execution_count": 8,
   "metadata": {
    "collapsed": false
   },
   "outputs": [
    {
     "name": "stdout",
     "output_type": "stream",
     "text": [
      "Tests Passed\n"
     ]
    }
   ],
   "source": [
    "def train_neural_network(session, optimizer, keep_probability, feature_batch, label_batch):\n",
    "    \"\"\"\n",
    "    Optimize the session on a batch of images and labels\n",
    "    : session: Current TensorFlow session\n",
    "    : optimizer: TensorFlow optimizer function\n",
    "    : keep_probability: keep probability\n",
    "    : feature_batch: Batch of Numpy image data\n",
    "    : label_batch: Batch of Numpy label data\n",
    "    \"\"\"\n",
    "    # DONE: Implement Function\n",
    "    session.run(optimizer, feed_dict={x:feature_batch,y:label_batch,keep_prob:keep_probability})\n",
    "    pass\n",
    "\n",
    "\n",
    "\"\"\"\n",
    "DON'T MODIFY ANYTHING IN THIS CELL THAT IS BELOW THIS LINE\n",
    "\"\"\"\n",
    "tests.test_train_nn(train_neural_network)"
   ]
  },
  {
   "cell_type": "markdown",
   "metadata": {},
   "source": [
    "### Show Stats\n",
    "Implement the function `print_stats` to print loss and validation accuracy.  Use the global variables `valid_features` and `valid_labels` to calculate validation accuracy.  Use a keep probability of `1.0` to calculate the loss and validation accuracy."
   ]
  },
  {
   "cell_type": "code",
   "execution_count": 9,
   "metadata": {
    "collapsed": false
   },
   "outputs": [],
   "source": [
    "def print_stats(session, feature_batch, label_batch, cost, accuracy):\n",
    "    \"\"\"\n",
    "    Print information about loss and validation accuracy\n",
    "    : session: Current TensorFlow session\n",
    "    : feature_batch: Batch of Numpy image data\n",
    "    : label_batch: Batch of Numpy label data\n",
    "    : cost: TensorFlow cost function\n",
    "    : accuracy: TensorFlow accuracy function\n",
    "    \"\"\"\n",
    "    # DONE: Implement Function\n",
    "    loss=session.run(cost,feed_dict={x:feature_batch,y:label_batch,keep_prob:1.0})\n",
    "    val_accu=session.run(accuracy, feed_dict={x:valid_features,y:valid_labels,keep_prob:1.0})\n",
    "    print('Loss: {:>10.4f} Validation Accuracy: {:.6f}'.format(loss,val_accu))\n",
    "    pass"
   ]
  },
  {
   "cell_type": "markdown",
   "metadata": {},
   "source": [
    "### Hyperparameters\n",
    "Tune the following parameters:\n",
    "* Set `epochs` to the number of iterations until the network stops learning or start overfitting\n",
    "* Set `batch_size` to the highest number that your machine has memory for.  Most people set them to common sizes of memory:\n",
    " * 64\n",
    " * 128\n",
    " * 256\n",
    " * ...\n",
    "* Set `keep_probability` to the probability of keeping a node using dropout"
   ]
  },
  {
   "cell_type": "code",
   "execution_count": 106,
   "metadata": {
    "collapsed": true
   },
   "outputs": [],
   "source": [
    "# DONE: Tune Parameters\n",
    "epochs = 50\n",
    "batch_size = 512\n",
    "keep_probability = 0.75"
   ]
  },
  {
   "cell_type": "markdown",
   "metadata": {},
   "source": [
    "### Train on a Single CIFAR-10 Batch\n",
    "Instead of training the neural network on all the CIFAR-10 batches of data, let's use a single batch. This should save time while you iterate on the model to get a better accuracy.  Once the final validation accuracy is 50% or greater, run the model on all the data in the next section."
   ]
  },
  {
   "cell_type": "code",
   "execution_count": 112,
   "metadata": {
    "collapsed": false,
    "scrolled": true
   },
   "outputs": [
    {
     "name": "stdout",
     "output_type": "stream",
     "text": [
      "Checking the Training on a Single Batch...\n",
      "Epoch  1, CIFAR-10 Batch 1:  Loss:    12.2782 Validation Accuracy: 0.229200\n",
      "Epoch  2, CIFAR-10 Batch 1:  Loss:     4.7065 Validation Accuracy: 0.253400\n",
      "Epoch  3, CIFAR-10 Batch 1:  Loss:     2.2316 Validation Accuracy: 0.182000\n",
      "Epoch  4, CIFAR-10 Batch 1:  Loss:     2.0345 Validation Accuracy: 0.260400\n",
      "Epoch  5, CIFAR-10 Batch 1:  Loss:     1.9527 Validation Accuracy: 0.285600\n",
      "Epoch  6, CIFAR-10 Batch 1:  Loss:     1.9057 Validation Accuracy: 0.301200\n",
      "Epoch  7, CIFAR-10 Batch 1:  Loss:     1.8417 Validation Accuracy: 0.316400\n",
      "Epoch  8, CIFAR-10 Batch 1:  Loss:     1.7725 Validation Accuracy: 0.325800\n",
      "Epoch  9, CIFAR-10 Batch 1:  Loss:     1.7187 Validation Accuracy: 0.342200\n",
      "Epoch 10, CIFAR-10 Batch 1:  Loss:     1.6611 Validation Accuracy: 0.349000\n",
      "Epoch 11, CIFAR-10 Batch 1:  Loss:     1.5769 Validation Accuracy: 0.373200\n",
      "Epoch 12, CIFAR-10 Batch 1:  Loss:     1.5096 Validation Accuracy: 0.377400\n",
      "Epoch 13, CIFAR-10 Batch 1:  Loss:     1.4141 Validation Accuracy: 0.399800\n",
      "Epoch 14, CIFAR-10 Batch 1:  Loss:     1.3623 Validation Accuracy: 0.404800\n",
      "Epoch 15, CIFAR-10 Batch 1:  Loss:     1.2737 Validation Accuracy: 0.416400\n",
      "Epoch 16, CIFAR-10 Batch 1:  Loss:     1.2325 Validation Accuracy: 0.417400\n",
      "Epoch 17, CIFAR-10 Batch 1:  Loss:     1.1584 Validation Accuracy: 0.433800\n",
      "Epoch 18, CIFAR-10 Batch 1:  Loss:     1.1090 Validation Accuracy: 0.446600\n",
      "Epoch 19, CIFAR-10 Batch 1:  Loss:     1.0642 Validation Accuracy: 0.447000\n",
      "Epoch 20, CIFAR-10 Batch 1:  Loss:     1.0175 Validation Accuracy: 0.452400\n",
      "Epoch 21, CIFAR-10 Batch 1:  Loss:     0.9493 Validation Accuracy: 0.459400\n",
      "Epoch 22, CIFAR-10 Batch 1:  Loss:     0.9326 Validation Accuracy: 0.467800\n",
      "Epoch 23, CIFAR-10 Batch 1:  Loss:     0.8770 Validation Accuracy: 0.465200\n",
      "Epoch 24, CIFAR-10 Batch 1:  Loss:     0.8246 Validation Accuracy: 0.476000\n",
      "Epoch 25, CIFAR-10 Batch 1:  Loss:     0.7848 Validation Accuracy: 0.471600\n",
      "Epoch 26, CIFAR-10 Batch 1:  Loss:     0.7588 Validation Accuracy: 0.468200\n",
      "Epoch 27, CIFAR-10 Batch 1:  Loss:     0.7248 Validation Accuracy: 0.482200\n",
      "Epoch 28, CIFAR-10 Batch 1:  Loss:     0.7105 Validation Accuracy: 0.476400\n",
      "Epoch 29, CIFAR-10 Batch 1:  Loss:     0.6935 Validation Accuracy: 0.475200\n",
      "Epoch 30, CIFAR-10 Batch 1:  Loss:     0.6623 Validation Accuracy: 0.479200\n",
      "Epoch 31, CIFAR-10 Batch 1:  Loss:     0.6350 Validation Accuracy: 0.486600\n",
      "Epoch 32, CIFAR-10 Batch 1:  Loss:     0.6102 Validation Accuracy: 0.479000\n",
      "Epoch 33, CIFAR-10 Batch 1:  Loss:     0.6044 Validation Accuracy: 0.490200\n",
      "Epoch 34, CIFAR-10 Batch 1:  Loss:     0.5742 Validation Accuracy: 0.482400\n",
      "Epoch 35, CIFAR-10 Batch 1:  Loss:     0.5627 Validation Accuracy: 0.479400\n",
      "Epoch 36, CIFAR-10 Batch 1:  Loss:     0.5516 Validation Accuracy: 0.483800\n",
      "Epoch 37, CIFAR-10 Batch 1:  Loss:     0.5279 Validation Accuracy: 0.492600\n",
      "Epoch 38, CIFAR-10 Batch 1:  Loss:     0.5002 Validation Accuracy: 0.500400\n",
      "Epoch 39, CIFAR-10 Batch 1:  Loss:     0.5051 Validation Accuracy: 0.499200\n",
      "Epoch 40, CIFAR-10 Batch 1:  Loss:     0.4732 Validation Accuracy: 0.499200\n",
      "Epoch 41, CIFAR-10 Batch 1:  Loss:     0.4617 Validation Accuracy: 0.502000\n",
      "Epoch 42, CIFAR-10 Batch 1:  Loss:     0.4375 Validation Accuracy: 0.497600\n",
      "Epoch 43, CIFAR-10 Batch 1:  Loss:     0.4287 Validation Accuracy: 0.496800\n",
      "Epoch 44, CIFAR-10 Batch 1:  Loss:     0.4387 Validation Accuracy: 0.501800\n",
      "Epoch 45, CIFAR-10 Batch 1:  Loss:     0.3901 Validation Accuracy: 0.500200\n",
      "Epoch 46, CIFAR-10 Batch 1:  Loss:     0.3986 Validation Accuracy: 0.499600\n",
      "Epoch 47, CIFAR-10 Batch 1:  Loss:     0.3873 Validation Accuracy: 0.496000\n",
      "Epoch 48, CIFAR-10 Batch 1:  Loss:     0.3638 Validation Accuracy: 0.503600\n",
      "Epoch 49, CIFAR-10 Batch 1:  Loss:     0.3729 Validation Accuracy: 0.492400\n",
      "Epoch 50, CIFAR-10 Batch 1:  Loss:     0.3654 Validation Accuracy: 0.493800\n"
     ]
    }
   ],
   "source": [
    "\"\"\"\n",
    "DON'T MODIFY ANYTHING IN THIS CELL\n",
    "\"\"\"\n",
    "print('Checking the Training on a Single Batch...')\n",
    "with tf.Session() as sess:\n",
    "    # Initializing the variables\n",
    "    sess.run(tf.global_variables_initializer())\n",
    "    \n",
    "    # Training cycle\n",
    "    for epoch in range(epochs):\n",
    "        batch_i = 1\n",
    "        for batch_features, batch_labels in helper.load_preprocess_training_batch(batch_i, batch_size):\n",
    "            train_neural_network(sess, optimizer, keep_probability, batch_features, batch_labels)\n",
    "        print('Epoch {:>2}, CIFAR-10 Batch {}:  '.format(epoch + 1, batch_i), end='')\n",
    "        print_stats(sess, batch_features, batch_labels, cost, accuracy)"
   ]
  },
  {
   "cell_type": "markdown",
   "metadata": {},
   "source": [
    "### Fully Train the Model\n",
    "Now that you got a good accuracy with a single CIFAR-10 batch, try it with all five batches."
   ]
  },
  {
   "cell_type": "code",
   "execution_count": 113,
   "metadata": {
    "collapsed": false
   },
   "outputs": [
    {
     "name": "stdout",
     "output_type": "stream",
     "text": [
      "Training...\n",
      "Epoch  1, CIFAR-10 Batch 1:  Loss:    16.8463 Validation Accuracy: 0.192400\n",
      "Epoch  1, CIFAR-10 Batch 2:  Loss:     2.9119 Validation Accuracy: 0.195400\n",
      "Epoch  1, CIFAR-10 Batch 3:  Loss:     2.1950 Validation Accuracy: 0.178400\n",
      "Epoch  1, CIFAR-10 Batch 4:  Loss:     2.0667 Validation Accuracy: 0.189200\n",
      "Epoch  1, CIFAR-10 Batch 5:  Loss:     2.0562 Validation Accuracy: 0.221600\n",
      "Epoch  2, CIFAR-10 Batch 1:  Loss:     2.1437 Validation Accuracy: 0.241200\n",
      "Epoch  2, CIFAR-10 Batch 2:  Loss:     1.9557 Validation Accuracy: 0.272200\n",
      "Epoch  2, CIFAR-10 Batch 3:  Loss:     1.7916 Validation Accuracy: 0.299000\n",
      "Epoch  2, CIFAR-10 Batch 4:  Loss:     1.7702 Validation Accuracy: 0.305000\n",
      "Epoch  2, CIFAR-10 Batch 5:  Loss:     1.8111 Validation Accuracy: 0.318000\n",
      "Epoch  3, CIFAR-10 Batch 1:  Loss:     1.9211 Validation Accuracy: 0.339400\n",
      "Epoch  3, CIFAR-10 Batch 2:  Loss:     1.7423 Validation Accuracy: 0.357200\n",
      "Epoch  3, CIFAR-10 Batch 3:  Loss:     1.6150 Validation Accuracy: 0.342600\n",
      "Epoch  3, CIFAR-10 Batch 4:  Loss:     1.6375 Validation Accuracy: 0.374400\n",
      "Epoch  3, CIFAR-10 Batch 5:  Loss:     1.6986 Validation Accuracy: 0.374000\n",
      "Epoch  4, CIFAR-10 Batch 1:  Loss:     1.7682 Validation Accuracy: 0.403600\n",
      "Epoch  4, CIFAR-10 Batch 2:  Loss:     1.6325 Validation Accuracy: 0.395000\n",
      "Epoch  4, CIFAR-10 Batch 3:  Loss:     1.5080 Validation Accuracy: 0.392600\n",
      "Epoch  4, CIFAR-10 Batch 4:  Loss:     1.4922 Validation Accuracy: 0.432800\n",
      "Epoch  4, CIFAR-10 Batch 5:  Loss:     1.5446 Validation Accuracy: 0.428600\n",
      "Epoch  5, CIFAR-10 Batch 1:  Loss:     1.6368 Validation Accuracy: 0.445200\n",
      "Epoch  5, CIFAR-10 Batch 2:  Loss:     1.5201 Validation Accuracy: 0.416200\n",
      "Epoch  5, CIFAR-10 Batch 3:  Loss:     1.3914 Validation Accuracy: 0.440400\n",
      "Epoch  5, CIFAR-10 Batch 4:  Loss:     1.4104 Validation Accuracy: 0.455000\n",
      "Epoch  5, CIFAR-10 Batch 5:  Loss:     1.4172 Validation Accuracy: 0.465600\n",
      "Epoch  6, CIFAR-10 Batch 1:  Loss:     1.5547 Validation Accuracy: 0.465600\n",
      "Epoch  6, CIFAR-10 Batch 2:  Loss:     1.3698 Validation Accuracy: 0.460600\n",
      "Epoch  6, CIFAR-10 Batch 3:  Loss:     1.3441 Validation Accuracy: 0.463800\n",
      "Epoch  6, CIFAR-10 Batch 4:  Loss:     1.3567 Validation Accuracy: 0.476200\n",
      "Epoch  6, CIFAR-10 Batch 5:  Loss:     1.3801 Validation Accuracy: 0.469400\n",
      "Epoch  7, CIFAR-10 Batch 1:  Loss:     1.5276 Validation Accuracy: 0.469600\n",
      "Epoch  7, CIFAR-10 Batch 2:  Loss:     1.3695 Validation Accuracy: 0.473600\n",
      "Epoch  7, CIFAR-10 Batch 3:  Loss:     1.2632 Validation Accuracy: 0.480600\n",
      "Epoch  7, CIFAR-10 Batch 4:  Loss:     1.3097 Validation Accuracy: 0.484600\n",
      "Epoch  7, CIFAR-10 Batch 5:  Loss:     1.3436 Validation Accuracy: 0.481400\n",
      "Epoch  8, CIFAR-10 Batch 1:  Loss:     1.4612 Validation Accuracy: 0.485800\n",
      "Epoch  8, CIFAR-10 Batch 2:  Loss:     1.2972 Validation Accuracy: 0.483200\n",
      "Epoch  8, CIFAR-10 Batch 3:  Loss:     1.1964 Validation Accuracy: 0.484200\n",
      "Epoch  8, CIFAR-10 Batch 4:  Loss:     1.2516 Validation Accuracy: 0.494200\n",
      "Epoch  8, CIFAR-10 Batch 5:  Loss:     1.2645 Validation Accuracy: 0.505600\n",
      "Epoch  9, CIFAR-10 Batch 1:  Loss:     1.4335 Validation Accuracy: 0.499000\n",
      "Epoch  9, CIFAR-10 Batch 2:  Loss:     1.2443 Validation Accuracy: 0.485400\n",
      "Epoch  9, CIFAR-10 Batch 3:  Loss:     1.1782 Validation Accuracy: 0.494000\n",
      "Epoch  9, CIFAR-10 Batch 4:  Loss:     1.2299 Validation Accuracy: 0.501800\n",
      "Epoch  9, CIFAR-10 Batch 5:  Loss:     1.3164 Validation Accuracy: 0.503200\n",
      "Epoch 10, CIFAR-10 Batch 1:  Loss:     1.4277 Validation Accuracy: 0.493200\n",
      "Epoch 10, CIFAR-10 Batch 2:  Loss:     1.2829 Validation Accuracy: 0.482800\n",
      "Epoch 10, CIFAR-10 Batch 3:  Loss:     1.1780 Validation Accuracy: 0.492600\n",
      "Epoch 10, CIFAR-10 Batch 4:  Loss:     1.2225 Validation Accuracy: 0.520800\n",
      "Epoch 10, CIFAR-10 Batch 5:  Loss:     1.2627 Validation Accuracy: 0.510600\n",
      "Epoch 11, CIFAR-10 Batch 1:  Loss:     1.4011 Validation Accuracy: 0.506400\n",
      "Epoch 11, CIFAR-10 Batch 2:  Loss:     1.2211 Validation Accuracy: 0.497200\n",
      "Epoch 11, CIFAR-10 Batch 3:  Loss:     1.1145 Validation Accuracy: 0.507600\n",
      "Epoch 11, CIFAR-10 Batch 4:  Loss:     1.1844 Validation Accuracy: 0.506800\n",
      "Epoch 11, CIFAR-10 Batch 5:  Loss:     1.2148 Validation Accuracy: 0.522400\n",
      "Epoch 12, CIFAR-10 Batch 1:  Loss:     1.3342 Validation Accuracy: 0.508000\n",
      "Epoch 12, CIFAR-10 Batch 2:  Loss:     1.2152 Validation Accuracy: 0.489000\n",
      "Epoch 12, CIFAR-10 Batch 3:  Loss:     1.1740 Validation Accuracy: 0.483000\n",
      "Epoch 12, CIFAR-10 Batch 4:  Loss:     1.2111 Validation Accuracy: 0.493400\n",
      "Epoch 12, CIFAR-10 Batch 5:  Loss:     1.2183 Validation Accuracy: 0.515800\n",
      "Epoch 13, CIFAR-10 Batch 1:  Loss:     1.3601 Validation Accuracy: 0.505400\n",
      "Epoch 13, CIFAR-10 Batch 2:  Loss:     1.1695 Validation Accuracy: 0.501200\n",
      "Epoch 13, CIFAR-10 Batch 3:  Loss:     1.1282 Validation Accuracy: 0.493400\n",
      "Epoch 13, CIFAR-10 Batch 4:  Loss:     1.2238 Validation Accuracy: 0.504600\n",
      "Epoch 13, CIFAR-10 Batch 5:  Loss:     1.1952 Validation Accuracy: 0.521000\n",
      "Epoch 14, CIFAR-10 Batch 1:  Loss:     1.3331 Validation Accuracy: 0.515200\n",
      "Epoch 14, CIFAR-10 Batch 2:  Loss:     1.1707 Validation Accuracy: 0.496600\n",
      "Epoch 14, CIFAR-10 Batch 3:  Loss:     1.1199 Validation Accuracy: 0.513800\n",
      "Epoch 14, CIFAR-10 Batch 4:  Loss:     1.1436 Validation Accuracy: 0.528400\n",
      "Epoch 14, CIFAR-10 Batch 5:  Loss:     1.1631 Validation Accuracy: 0.523400\n",
      "Epoch 15, CIFAR-10 Batch 1:  Loss:     1.2727 Validation Accuracy: 0.525200\n",
      "Epoch 15, CIFAR-10 Batch 2:  Loss:     1.1273 Validation Accuracy: 0.509600\n",
      "Epoch 15, CIFAR-10 Batch 3:  Loss:     1.0518 Validation Accuracy: 0.511800\n",
      "Epoch 15, CIFAR-10 Batch 4:  Loss:     1.1409 Validation Accuracy: 0.519400\n",
      "Epoch 15, CIFAR-10 Batch 5:  Loss:     1.1407 Validation Accuracy: 0.532200\n",
      "Epoch 16, CIFAR-10 Batch 1:  Loss:     1.2420 Validation Accuracy: 0.525600\n",
      "Epoch 16, CIFAR-10 Batch 2:  Loss:     1.1262 Validation Accuracy: 0.509000\n",
      "Epoch 16, CIFAR-10 Batch 3:  Loss:     1.1009 Validation Accuracy: 0.508600\n",
      "Epoch 16, CIFAR-10 Batch 4:  Loss:     1.1655 Validation Accuracy: 0.510600\n",
      "Epoch 16, CIFAR-10 Batch 5:  Loss:     1.1435 Validation Accuracy: 0.520200\n",
      "Epoch 17, CIFAR-10 Batch 1:  Loss:     1.2301 Validation Accuracy: 0.532000\n",
      "Epoch 17, CIFAR-10 Batch 2:  Loss:     1.0664 Validation Accuracy: 0.511600\n",
      "Epoch 17, CIFAR-10 Batch 3:  Loss:     1.0652 Validation Accuracy: 0.512800\n",
      "Epoch 17, CIFAR-10 Batch 4:  Loss:     1.1172 Validation Accuracy: 0.512800\n",
      "Epoch 17, CIFAR-10 Batch 5:  Loss:     1.1293 Validation Accuracy: 0.521800\n",
      "Epoch 18, CIFAR-10 Batch 1:  Loss:     1.2476 Validation Accuracy: 0.533200\n",
      "Epoch 18, CIFAR-10 Batch 2:  Loss:     1.0733 Validation Accuracy: 0.520000\n",
      "Epoch 18, CIFAR-10 Batch 3:  Loss:     1.0662 Validation Accuracy: 0.521800\n",
      "Epoch 18, CIFAR-10 Batch 4:  Loss:     1.0863 Validation Accuracy: 0.537000\n",
      "Epoch 18, CIFAR-10 Batch 5:  Loss:     1.1402 Validation Accuracy: 0.533000\n",
      "Epoch 19, CIFAR-10 Batch 1:  Loss:     1.2016 Validation Accuracy: 0.528200\n",
      "Epoch 19, CIFAR-10 Batch 2:  Loss:     1.0607 Validation Accuracy: 0.526800\n",
      "Epoch 19, CIFAR-10 Batch 3:  Loss:     1.0472 Validation Accuracy: 0.518200\n",
      "Epoch 19, CIFAR-10 Batch 4:  Loss:     1.1112 Validation Accuracy: 0.525400\n",
      "Epoch 19, CIFAR-10 Batch 5:  Loss:     1.0777 Validation Accuracy: 0.545800\n",
      "Epoch 20, CIFAR-10 Batch 1:  Loss:     1.2381 Validation Accuracy: 0.530400\n",
      "Epoch 20, CIFAR-10 Batch 2:  Loss:     1.1094 Validation Accuracy: 0.515600\n",
      "Epoch 20, CIFAR-10 Batch 3:  Loss:     1.0607 Validation Accuracy: 0.524400\n",
      "Epoch 20, CIFAR-10 Batch 4:  Loss:     1.0627 Validation Accuracy: 0.534000\n",
      "Epoch 20, CIFAR-10 Batch 5:  Loss:     1.1232 Validation Accuracy: 0.527800\n",
      "Epoch 21, CIFAR-10 Batch 1:  Loss:     1.2202 Validation Accuracy: 0.527800\n",
      "Epoch 21, CIFAR-10 Batch 2:  Loss:     1.0802 Validation Accuracy: 0.526200\n",
      "Epoch 21, CIFAR-10 Batch 3:  Loss:     0.9736 Validation Accuracy: 0.535800\n",
      "Epoch 21, CIFAR-10 Batch 4:  Loss:     1.0593 Validation Accuracy: 0.531200\n",
      "Epoch 21, CIFAR-10 Batch 5:  Loss:     1.0625 Validation Accuracy: 0.543000\n",
      "Epoch 22, CIFAR-10 Batch 1:  Loss:     1.1920 Validation Accuracy: 0.535400\n",
      "Epoch 22, CIFAR-10 Batch 2:  Loss:     1.0489 Validation Accuracy: 0.524200\n",
      "Epoch 22, CIFAR-10 Batch 3:  Loss:     1.0275 Validation Accuracy: 0.525600\n",
      "Epoch 22, CIFAR-10 Batch 4:  Loss:     1.0675 Validation Accuracy: 0.530400\n",
      "Epoch 22, CIFAR-10 Batch 5:  Loss:     1.0652 Validation Accuracy: 0.545200\n",
      "Epoch 23, CIFAR-10 Batch 1:  Loss:     1.1565 Validation Accuracy: 0.539800\n",
      "Epoch 23, CIFAR-10 Batch 2:  Loss:     1.0136 Validation Accuracy: 0.531800\n",
      "Epoch 23, CIFAR-10 Batch 3:  Loss:     1.0229 Validation Accuracy: 0.541600\n",
      "Epoch 23, CIFAR-10 Batch 4:  Loss:     1.0351 Validation Accuracy: 0.545600\n",
      "Epoch 23, CIFAR-10 Batch 5:  Loss:     1.0652 Validation Accuracy: 0.537600\n",
      "Epoch 24, CIFAR-10 Batch 1:  Loss:     1.1663 Validation Accuracy: 0.542800\n",
      "Epoch 24, CIFAR-10 Batch 2:  Loss:     1.0429 Validation Accuracy: 0.523200\n",
      "Epoch 24, CIFAR-10 Batch 3:  Loss:     1.0214 Validation Accuracy: 0.539400\n",
      "Epoch 24, CIFAR-10 Batch 4:  Loss:     1.0369 Validation Accuracy: 0.547800\n",
      "Epoch 24, CIFAR-10 Batch 5:  Loss:     1.0600 Validation Accuracy: 0.546200\n",
      "Epoch 25, CIFAR-10 Batch 1:  Loss:     1.2043 Validation Accuracy: 0.524200\n",
      "Epoch 25, CIFAR-10 Batch 2:  Loss:     1.0444 Validation Accuracy: 0.508400\n",
      "Epoch 25, CIFAR-10 Batch 3:  Loss:     1.0530 Validation Accuracy: 0.534600\n",
      "Epoch 25, CIFAR-10 Batch 4:  Loss:     1.0895 Validation Accuracy: 0.535000\n",
      "Epoch 25, CIFAR-10 Batch 5:  Loss:     1.0408 Validation Accuracy: 0.547200\n",
      "Epoch 26, CIFAR-10 Batch 1:  Loss:     1.1399 Validation Accuracy: 0.547000\n",
      "Epoch 26, CIFAR-10 Batch 2:  Loss:     0.9953 Validation Accuracy: 0.520400\n",
      "Epoch 26, CIFAR-10 Batch 3:  Loss:     0.9971 Validation Accuracy: 0.538200\n",
      "Epoch 26, CIFAR-10 Batch 4:  Loss:     1.0550 Validation Accuracy: 0.548000\n",
      "Epoch 26, CIFAR-10 Batch 5:  Loss:     1.0372 Validation Accuracy: 0.550800\n",
      "Epoch 27, CIFAR-10 Batch 1:  Loss:     1.1274 Validation Accuracy: 0.542800\n",
      "Epoch 27, CIFAR-10 Batch 2:  Loss:     1.0029 Validation Accuracy: 0.527400\n",
      "Epoch 27, CIFAR-10 Batch 3:  Loss:     0.9863 Validation Accuracy: 0.533200\n",
      "Epoch 27, CIFAR-10 Batch 4:  Loss:     0.9957 Validation Accuracy: 0.550800\n",
      "Epoch 27, CIFAR-10 Batch 5:  Loss:     0.9953 Validation Accuracy: 0.557000\n",
      "Epoch 28, CIFAR-10 Batch 1:  Loss:     1.1281 Validation Accuracy: 0.534200\n",
      "Epoch 28, CIFAR-10 Batch 2:  Loss:     0.9813 Validation Accuracy: 0.539200\n",
      "Epoch 28, CIFAR-10 Batch 3:  Loss:     1.0100 Validation Accuracy: 0.538800\n",
      "Epoch 28, CIFAR-10 Batch 4:  Loss:     0.9976 Validation Accuracy: 0.542200\n",
      "Epoch 28, CIFAR-10 Batch 5:  Loss:     0.9972 Validation Accuracy: 0.538000\n",
      "Epoch 29, CIFAR-10 Batch 1:  Loss:     1.1388 Validation Accuracy: 0.537600\n",
      "Epoch 29, CIFAR-10 Batch 2:  Loss:     1.0016 Validation Accuracy: 0.523600\n",
      "Epoch 29, CIFAR-10 Batch 3:  Loss:     0.9842 Validation Accuracy: 0.540800\n",
      "Epoch 29, CIFAR-10 Batch 4:  Loss:     1.0309 Validation Accuracy: 0.546000\n",
      "Epoch 29, CIFAR-10 Batch 5:  Loss:     1.0182 Validation Accuracy: 0.553600\n",
      "Epoch 30, CIFAR-10 Batch 1:  Loss:     1.1436 Validation Accuracy: 0.539800\n",
      "Epoch 30, CIFAR-10 Batch 2:  Loss:     1.0295 Validation Accuracy: 0.533200\n",
      "Epoch 30, CIFAR-10 Batch 3:  Loss:     0.9824 Validation Accuracy: 0.548800\n",
      "Epoch 30, CIFAR-10 Batch 4:  Loss:     1.0004 Validation Accuracy: 0.559200\n",
      "Epoch 30, CIFAR-10 Batch 5:  Loss:     0.9988 Validation Accuracy: 0.555000\n",
      "Epoch 31, CIFAR-10 Batch 1:  Loss:     1.1241 Validation Accuracy: 0.542800\n",
      "Epoch 31, CIFAR-10 Batch 2:  Loss:     0.9491 Validation Accuracy: 0.538000\n",
      "Epoch 31, CIFAR-10 Batch 3:  Loss:     0.9805 Validation Accuracy: 0.543000\n",
      "Epoch 31, CIFAR-10 Batch 4:  Loss:     1.0006 Validation Accuracy: 0.554200\n",
      "Epoch 31, CIFAR-10 Batch 5:  Loss:     0.9707 Validation Accuracy: 0.554000\n",
      "Epoch 32, CIFAR-10 Batch 1:  Loss:     1.0941 Validation Accuracy: 0.548800\n",
      "Epoch 32, CIFAR-10 Batch 2:  Loss:     0.9214 Validation Accuracy: 0.544600\n",
      "Epoch 32, CIFAR-10 Batch 3:  Loss:     0.8983 Validation Accuracy: 0.555400\n",
      "Epoch 32, CIFAR-10 Batch 4:  Loss:     1.0236 Validation Accuracy: 0.554000\n",
      "Epoch 32, CIFAR-10 Batch 5:  Loss:     0.9832 Validation Accuracy: 0.554200\n",
      "Epoch 33, CIFAR-10 Batch 1:  Loss:     1.0836 Validation Accuracy: 0.540400\n",
      "Epoch 33, CIFAR-10 Batch 2:  Loss:     0.9816 Validation Accuracy: 0.533200\n",
      "Epoch 33, CIFAR-10 Batch 3:  Loss:     0.9551 Validation Accuracy: 0.540200\n",
      "Epoch 33, CIFAR-10 Batch 4:  Loss:     1.0061 Validation Accuracy: 0.560000\n",
      "Epoch 33, CIFAR-10 Batch 5:  Loss:     0.9549 Validation Accuracy: 0.553600\n",
      "Epoch 34, CIFAR-10 Batch 1:  Loss:     1.0836 Validation Accuracy: 0.543600\n",
      "Epoch 34, CIFAR-10 Batch 2:  Loss:     0.9714 Validation Accuracy: 0.529600\n",
      "Epoch 34, CIFAR-10 Batch 3:  Loss:     0.9138 Validation Accuracy: 0.553200\n",
      "Epoch 34, CIFAR-10 Batch 4:  Loss:     0.9470 Validation Accuracy: 0.558000\n",
      "Epoch 34, CIFAR-10 Batch 5:  Loss:     0.9650 Validation Accuracy: 0.560800\n",
      "Epoch 35, CIFAR-10 Batch 1:  Loss:     1.0549 Validation Accuracy: 0.552800\n",
      "Epoch 35, CIFAR-10 Batch 2:  Loss:     0.9281 Validation Accuracy: 0.532800\n",
      "Epoch 35, CIFAR-10 Batch 3:  Loss:     1.3577 Validation Accuracy: 0.397800\n",
      "Epoch 35, CIFAR-10 Batch 4:  Loss:     1.0128 Validation Accuracy: 0.542400\n",
      "Epoch 35, CIFAR-10 Batch 5:  Loss:     0.9994 Validation Accuracy: 0.545600\n",
      "Epoch 36, CIFAR-10 Batch 1:  Loss:     1.1302 Validation Accuracy: 0.530600\n",
      "Epoch 36, CIFAR-10 Batch 2:  Loss:     1.0096 Validation Accuracy: 0.523400\n",
      "Epoch 36, CIFAR-10 Batch 3:  Loss:     0.9872 Validation Accuracy: 0.530600\n",
      "Epoch 36, CIFAR-10 Batch 4:  Loss:     1.0104 Validation Accuracy: 0.541400\n",
      "Epoch 36, CIFAR-10 Batch 5:  Loss:     0.9987 Validation Accuracy: 0.549200\n",
      "Epoch 37, CIFAR-10 Batch 1:  Loss:     1.0909 Validation Accuracy: 0.541600\n",
      "Epoch 37, CIFAR-10 Batch 2:  Loss:     1.0494 Validation Accuracy: 0.527800\n",
      "Epoch 37, CIFAR-10 Batch 3:  Loss:     0.9542 Validation Accuracy: 0.540400\n",
      "Epoch 37, CIFAR-10 Batch 4:  Loss:     0.9764 Validation Accuracy: 0.548000\n",
      "Epoch 37, CIFAR-10 Batch 5:  Loss:     0.9569 Validation Accuracy: 0.552200\n",
      "Epoch 38, CIFAR-10 Batch 1:  Loss:     1.0756 Validation Accuracy: 0.539600\n",
      "Epoch 38, CIFAR-10 Batch 2:  Loss:     0.9905 Validation Accuracy: 0.539400\n",
      "Epoch 38, CIFAR-10 Batch 3:  Loss:     0.9254 Validation Accuracy: 0.543200\n",
      "Epoch 38, CIFAR-10 Batch 4:  Loss:     0.9639 Validation Accuracy: 0.555000\n",
      "Epoch 38, CIFAR-10 Batch 5:  Loss:     0.9438 Validation Accuracy: 0.552600\n",
      "Epoch 39, CIFAR-10 Batch 1:  Loss:     1.0902 Validation Accuracy: 0.536400\n",
      "Epoch 39, CIFAR-10 Batch 2:  Loss:     0.9813 Validation Accuracy: 0.543400\n",
      "Epoch 39, CIFAR-10 Batch 3:  Loss:     0.9194 Validation Accuracy: 0.541600\n",
      "Epoch 39, CIFAR-10 Batch 4:  Loss:     0.9608 Validation Accuracy: 0.556200\n",
      "Epoch 39, CIFAR-10 Batch 5:  Loss:     0.9656 Validation Accuracy: 0.556000\n",
      "Epoch 40, CIFAR-10 Batch 1:  Loss:     1.0830 Validation Accuracy: 0.547200\n",
      "Epoch 40, CIFAR-10 Batch 2:  Loss:     0.9663 Validation Accuracy: 0.550600\n",
      "Epoch 40, CIFAR-10 Batch 3:  Loss:     0.9368 Validation Accuracy: 0.549400\n",
      "Epoch 40, CIFAR-10 Batch 4:  Loss:     0.9473 Validation Accuracy: 0.557600\n",
      "Epoch 40, CIFAR-10 Batch 5:  Loss:     0.9688 Validation Accuracy: 0.552400\n",
      "Epoch 41, CIFAR-10 Batch 1:  Loss:     1.0441 Validation Accuracy: 0.546400\n",
      "Epoch 41, CIFAR-10 Batch 2:  Loss:     1.0092 Validation Accuracy: 0.525000\n",
      "Epoch 41, CIFAR-10 Batch 3:  Loss:     0.9198 Validation Accuracy: 0.543400\n",
      "Epoch 41, CIFAR-10 Batch 4:  Loss:     1.0177 Validation Accuracy: 0.539600\n",
      "Epoch 41, CIFAR-10 Batch 5:  Loss:     0.9514 Validation Accuracy: 0.556000\n",
      "Epoch 42, CIFAR-10 Batch 1:  Loss:     1.0735 Validation Accuracy: 0.550800\n",
      "Epoch 42, CIFAR-10 Batch 2:  Loss:     0.9533 Validation Accuracy: 0.543800\n",
      "Epoch 42, CIFAR-10 Batch 3:  Loss:     0.8984 Validation Accuracy: 0.555800\n",
      "Epoch 42, CIFAR-10 Batch 4:  Loss:     0.9363 Validation Accuracy: 0.560200\n",
      "Epoch 42, CIFAR-10 Batch 5:  Loss:     0.9917 Validation Accuracy: 0.543400\n",
      "Epoch 43, CIFAR-10 Batch 1:  Loss:     1.0751 Validation Accuracy: 0.539200\n",
      "Epoch 43, CIFAR-10 Batch 2:  Loss:     0.9708 Validation Accuracy: 0.534000\n",
      "Epoch 43, CIFAR-10 Batch 3:  Loss:     0.9579 Validation Accuracy: 0.534200\n",
      "Epoch 43, CIFAR-10 Batch 4:  Loss:     0.9801 Validation Accuracy: 0.547600\n",
      "Epoch 43, CIFAR-10 Batch 5:  Loss:     0.9635 Validation Accuracy: 0.552600\n",
      "Epoch 44, CIFAR-10 Batch 1:  Loss:     1.1237 Validation Accuracy: 0.538200\n",
      "Epoch 44, CIFAR-10 Batch 2:  Loss:     0.9803 Validation Accuracy: 0.533200\n",
      "Epoch 44, CIFAR-10 Batch 3:  Loss:     0.9381 Validation Accuracy: 0.551800\n",
      "Epoch 44, CIFAR-10 Batch 4:  Loss:     0.9927 Validation Accuracy: 0.547600\n",
      "Epoch 44, CIFAR-10 Batch 5:  Loss:     0.9790 Validation Accuracy: 0.550800\n",
      "Epoch 45, CIFAR-10 Batch 1:  Loss:     1.0493 Validation Accuracy: 0.535000\n",
      "Epoch 45, CIFAR-10 Batch 2:  Loss:     0.9650 Validation Accuracy: 0.540400\n",
      "Epoch 45, CIFAR-10 Batch 3:  Loss:     0.9072 Validation Accuracy: 0.555000\n",
      "Epoch 45, CIFAR-10 Batch 4:  Loss:     0.9792 Validation Accuracy: 0.550000\n",
      "Epoch 45, CIFAR-10 Batch 5:  Loss:     0.9465 Validation Accuracy: 0.563400\n",
      "Epoch 46, CIFAR-10 Batch 1:  Loss:     1.0314 Validation Accuracy: 0.554800\n",
      "Epoch 46, CIFAR-10 Batch 2:  Loss:     0.9610 Validation Accuracy: 0.546000\n",
      "Epoch 46, CIFAR-10 Batch 3:  Loss:     0.8838 Validation Accuracy: 0.557600\n",
      "Epoch 46, CIFAR-10 Batch 4:  Loss:     0.9423 Validation Accuracy: 0.559200\n",
      "Epoch 46, CIFAR-10 Batch 5:  Loss:     0.9419 Validation Accuracy: 0.570000\n",
      "Epoch 47, CIFAR-10 Batch 1:  Loss:     1.0175 Validation Accuracy: 0.555600\n",
      "Epoch 47, CIFAR-10 Batch 2:  Loss:     0.9073 Validation Accuracy: 0.553600\n",
      "Epoch 47, CIFAR-10 Batch 3:  Loss:     0.9811 Validation Accuracy: 0.533800\n",
      "Epoch 47, CIFAR-10 Batch 4:  Loss:     0.9669 Validation Accuracy: 0.557400\n",
      "Epoch 47, CIFAR-10 Batch 5:  Loss:     0.9615 Validation Accuracy: 0.553800\n",
      "Epoch 48, CIFAR-10 Batch 1:  Loss:     1.0185 Validation Accuracy: 0.551400\n",
      "Epoch 48, CIFAR-10 Batch 2:  Loss:     0.9090 Validation Accuracy: 0.543000\n",
      "Epoch 48, CIFAR-10 Batch 3:  Loss:     0.9075 Validation Accuracy: 0.557200\n",
      "Epoch 48, CIFAR-10 Batch 4:  Loss:     0.9211 Validation Accuracy: 0.566000\n",
      "Epoch 48, CIFAR-10 Batch 5:  Loss:     0.9418 Validation Accuracy: 0.557800\n",
      "Epoch 49, CIFAR-10 Batch 1:  Loss:     0.9775 Validation Accuracy: 0.552400\n",
      "Epoch 49, CIFAR-10 Batch 2:  Loss:     0.9360 Validation Accuracy: 0.556600\n",
      "Epoch 49, CIFAR-10 Batch 3:  Loss:     0.8696 Validation Accuracy: 0.560600\n",
      "Epoch 49, CIFAR-10 Batch 4:  Loss:     0.9444 Validation Accuracy: 0.554000\n",
      "Epoch 49, CIFAR-10 Batch 5:  Loss:     0.9390 Validation Accuracy: 0.560000\n",
      "Epoch 50, CIFAR-10 Batch 1:  Loss:     1.0012 Validation Accuracy: 0.549000\n",
      "Epoch 50, CIFAR-10 Batch 2:  Loss:     0.9356 Validation Accuracy: 0.555400\n",
      "Epoch 50, CIFAR-10 Batch 3:  Loss:     0.8879 Validation Accuracy: 0.556000\n",
      "Epoch 50, CIFAR-10 Batch 4:  Loss:     0.9390 Validation Accuracy: 0.567400\n",
      "Epoch 50, CIFAR-10 Batch 5:  Loss:     0.9158 Validation Accuracy: 0.571000\n"
     ]
    }
   ],
   "source": [
    "\"\"\"\n",
    "DON'T MODIFY ANYTHING IN THIS CELL\n",
    "\"\"\"\n",
    "save_model_path = './image_classification'\n",
    "\n",
    "print('Training...')\n",
    "with tf.Session() as sess:\n",
    "    # Initializing the variables\n",
    "    sess.run(tf.global_variables_initializer())\n",
    "    \n",
    "    # Training cycle\n",
    "    for epoch in range(epochs):\n",
    "        # Loop over all batches\n",
    "        n_batches = 5\n",
    "        for batch_i in range(1, n_batches + 1):\n",
    "            for batch_features, batch_labels in helper.load_preprocess_training_batch(batch_i, batch_size):\n",
    "                train_neural_network(sess, optimizer, keep_probability, batch_features, batch_labels)\n",
    "            print('Epoch {:>2}, CIFAR-10 Batch {}:  '.format(epoch + 1, batch_i), end='')\n",
    "            print_stats(sess, batch_features, batch_labels, cost, accuracy)\n",
    "            \n",
    "    # Save Model\n",
    "    saver = tf.train.Saver()\n",
    "    save_path = saver.save(sess, save_model_path)"
   ]
  },
  {
   "cell_type": "markdown",
   "metadata": {},
   "source": [
    "# Checkpoint\n",
    "The model has been saved to disk.\n",
    "## Test Model\n",
    "Test your model against the test dataset.  This will be your final accuracy. You should have an accuracy greater than 50%. If you don't, keep tweaking the model architecture and parameters."
   ]
  },
  {
   "cell_type": "code",
   "execution_count": 114,
   "metadata": {
    "collapsed": false
   },
   "outputs": [
    {
     "name": "stdout",
     "output_type": "stream",
     "text": [
      "Testing Accuracy: 0.5627125471830368\n",
      "\n"
     ]
    },
    {
     "data": {
      "image/png": "[encoded data removed]",
      "text/plain": [
       "<matplotlib.figure.Figure at 0x7fba98dd9e10>"
      ]
     },
     "metadata": {
      "image/png": {
       "height": 319,
       "width": 355
      }
     },
     "output_type": "display_data"
    }
   ],
   "source": [
    "\"\"\"\n",
    "DON'T MODIFY ANYTHING IN THIS CELL\n",
    "\"\"\"\n",
    "%matplotlib inline\n",
    "%config InlineBackend.figure_format = 'retina'\n",
    "\n",
    "import tensorflow as tf\n",
    "import pickle\n",
    "import helper\n",
    "import random\n",
    "\n",
    "# Set batch size if not already set\n",
    "try:\n",
    "    if batch_size:\n",
    "        pass\n",
    "except NameError:\n",
    "    batch_size = 64\n",
    "\n",
    "save_model_path = './image_classification'\n",
    "n_samples = 4\n",
    "top_n_predictions = 3\n",
    "\n",
    "def test_model():\n",
    "    \"\"\"\n",
    "    Test the saved model against the test dataset\n",
    "    \"\"\"\n",
    "\n",
    "    test_features, test_labels = pickle.load(open('preprocess_training.p', mode='rb'))\n",
    "    loaded_graph = tf.Graph()\n",
    "\n",
    "    with tf.Session(graph=loaded_graph) as sess:\n",
    "        # Load model\n",
    "        loader = tf.train.import_meta_graph(save_model_path + '.meta')\n",
    "        loader.restore(sess, save_model_path)\n",
    "\n",
    "        # Get Tensors from loaded model\n",
    "        loaded_x = loaded_graph.get_tensor_by_name('x:0')\n",
    "        loaded_y = loaded_graph.get_tensor_by_name('y:0')\n",
    "        loaded_keep_prob = loaded_graph.get_tensor_by_name('keep_prob:0')\n",
    "        loaded_logits = loaded_graph.get_tensor_by_name('logits:0')\n",
    "        loaded_acc = loaded_graph.get_tensor_by_name('accuracy:0')\n",
    "        \n",
    "        # Get accuracy in batches for memory limitations\n",
    "        test_batch_acc_total = 0\n",
    "        test_batch_count = 0\n",
    "        \n",
    "        for train_feature_batch, train_label_batch in helper.batch_features_labels(test_features, test_labels, batch_size):\n",
    "            test_batch_acc_total += sess.run(\n",
    "                loaded_acc,\n",
    "                feed_dict={loaded_x: train_feature_batch, loaded_y: train_label_batch, loaded_keep_prob: 1.0})\n",
    "            test_batch_count += 1\n",
    "\n",
    "        print('Testing Accuracy: {}\\n'.format(test_batch_acc_total/test_batch_count))\n",
    "\n",
    "        # Print Random Samples\n",
    "        random_test_features, random_test_labels = tuple(zip(*random.sample(list(zip(test_features, test_labels)), n_samples)))\n",
    "        random_test_predictions = sess.run(\n",
    "            tf.nn.top_k(tf.nn.softmax(loaded_logits), top_n_predictions),\n",
    "            feed_dict={loaded_x: random_test_features, loaded_y: random_test_labels, loaded_keep_prob: 1.0})\n",
    "        helper.display_image_predictions(random_test_features, random_test_labels, random_test_predictions)\n",
    "\n",
    "\n",
    "test_model()"
   ]
  },
  {
   "cell_type": "markdown",
   "metadata": {},
   "source": [
    "## Why 50-70% Accuracy?\n",
    "You might be wondering why you can't get an accuracy any higher. First things first, 50% isn't bad for a simple CNN.  Pure guessing would get you 10% accuracy. However, you might notice people are getting scores [well above 70%](http://rodrigob.github.io/are_we_there_yet/build/classification_datasets_results.html#43494641522d3130).  That's because we haven't taught you all there is to know about neural networks. We still need to cover a few more techniques.\n",
    "## Submitting This Project\n",
    "When submitting this project, make sure to run all the cells before saving the notebook.  Save the notebook file as \"dlnd_image_classification.ipynb\" and save it as a HTML file under \"File\" -> \"Download as\".  Include the \"helper.py\" and \"problem_unittests.py\" files in your submission."
   ]
  }
 ],
 "metadata": {
  "anaconda-cloud": {},
  "kernelspec": {
   "display_name": "Python [default]",
   "language": "python",
   "name": "python3"
  },
  "language_info": {
   "codemirror_mode": {
    "name": "ipython",
    "version": 3
   },
   "file_extension": ".py",
   "mimetype": "text/x-python",
   "name": "python",
   "nbconvert_exporter": "python",
   "pygments_lexer": "ipython3",
   "version": "3.5.2"
  }
 },
 "nbformat": 4,
 "nbformat_minor": 0
}
